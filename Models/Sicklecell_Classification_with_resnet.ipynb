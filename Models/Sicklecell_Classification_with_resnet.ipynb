{
  "nbformat": 4,
  "nbformat_minor": 0,
  "metadata": {
    "colab": {
      "provenance": []
    },
    "kernelspec": {
      "name": "python3",
      "display_name": "Python 3"
    },
    "language_info": {
      "name": "python"
    },
    "accelerator": "GPU",
    "gpuClass": "standard"
  },
  "cells": [
    {
      "cell_type": "code",
      "execution_count": 3,
      "metadata": {
        "colab": {
          "base_uri": "https://localhost:8080/"
        },
        "id": "oAmaed1yaaEz",
        "outputId": "5ed672a0-630c-4bab-919b-2646ea76b8f2"
      },
      "outputs": [
        {
          "output_type": "stream",
          "name": "stdout",
          "text": [
            "Mounted at /content/drive\n"
          ]
        }
      ],
      "source": [
        "from google.colab import drive\n",
        "drive.mount('/content/drive')"
      ]
    },
    {
      "cell_type": "code",
      "source": [
        "# Step 1: Import the necessary libraries\n",
        "import numpy as np\n",
        "import os\n",
        "from PIL import Image\n",
        "from tensorflow import keras\n",
        "from tensorflow.keras import layers\n",
        "from tensorflow.keras.applications import VGG16\n",
        "from tensorflow.keras.applications import ResNet50\n"
      ],
      "metadata": {
        "id": "QSnpM8_Waowz"
      },
      "execution_count": 2,
      "outputs": []
    },
    {
      "cell_type": "code",
      "source": [
        "# Step 2: Load the data\n",
        "train_data = []\n",
        "train_labels = []\n",
        "test_data = []\n",
        "test_labels = []\n",
        "val_data = []\n",
        "val_labels = []\n",
        "\n",
        "# Load data from train folder\n",
        "for i in range(5):\n",
        "    folder_name = f\"/content/drive/MyDrive/rawdata/Train/Phase{i+1}\"\n",
        "    for filename in os.listdir(folder_name):\n",
        "        img = Image.open(os.path.join(folder_name, filename))\n",
        "        img = img.resize((224, 224))\n",
        "        img_array = np.array(img)\n",
        "        train_data.append(img_array)\n",
        "        train_labels.append(i)\n",
        "\n",
        "# Load data from test folder\n",
        "for i in range(5):\n",
        "    folder_name = f\"/content/drive/MyDrive/rawdata/Test/Phase{i+1}\"\n",
        "    for filename in os.listdir(folder_name):\n",
        "        img = Image.open(os.path.join(folder_name, filename))\n",
        "        img = img.resize((224, 224))\n",
        "        img_array = np.array(img)\n",
        "        test_data.append(img_array)\n",
        "        test_labels.append(i)\n",
        "\n",
        "# Load data from validation folder\n",
        "for i in range(5):\n",
        "    folder_name = f\"/content/drive/MyDrive/rawdata/Validation/Phase{i+1}\"\n",
        "    for filename in os.listdir(folder_name):\n",
        "        img = Image.open(os.path.join(folder_name, filename))\n",
        "        img = img.resize((224, 224))\n",
        "        img_array = np.array(img)\n",
        "        val_data.append(img_array)\n",
        "        val_labels.append(i)"
      ],
      "metadata": {
        "id": "K3anPEbiaeSN"
      },
      "execution_count": 14,
      "outputs": []
    },
    {
      "cell_type": "code",
      "source": [
        "# Step 3: Preprocess the data\n",
        "from tensorflow.keras.applications.resnet50 import preprocess_input\n",
        "train_data = np.array(train_data)\n",
        "train_labels = np.array(train_labels)\n",
        "train_data = keras.applications.resnet50.preprocess_input(train_data)\n",
        "\n",
        "test_data = np.array(test_data)\n",
        "test_labels = np.array(test_labels)\n",
        "test_data =  keras.applications.resnet50.preprocess_input(test_data)\n",
        "\n",
        "val_data = np.array(val_data)\n",
        "val_labels = np.array(val_labels)\n",
        "val_data =  keras.applications.resnet50.preprocess_input(val_data)"
      ],
      "metadata": {
        "id": "Bz6z0BFqatyO"
      },
      "execution_count": 15,
      "outputs": []
    },
    {
      "cell_type": "code",
      "source": [
        "# Step 4: Load the pre-trained model\n",
        "base_model = ResNet50(weights='imagenet', include_top=False, input_shape=(224, 224, 3))\n"
      ],
      "metadata": {
        "id": "FsEH_f9rayp9"
      },
      "execution_count": 16,
      "outputs": []
    },
    {
      "cell_type": "code",
      "source": [
        "# Step 5: Build the model\n",
        "model = keras.Sequential(\n",
        "    [\n",
        "        base_model,\n",
        "        layers.GlobalAveragePooling2D(),\n",
        "        layers.Dense(128, activation=\"relu\"),\n",
        "        layers.Dense(5, activation=\"softmax\"),\n",
        "    ]\n",
        ")"
      ],
      "metadata": {
        "id": "5xhmClfqihyr"
      },
      "execution_count": 17,
      "outputs": []
    },
    {
      "cell_type": "code",
      "source": [
        "# Step 6: Compile the model\n",
        "model.compile(\n",
        "    optimizer=\"adam\", loss=\"sparse_categorical_crossentropy\", metrics=[\"accuracy\"]\n",
        ")\n"
      ],
      "metadata": {
        "id": "qgNfeJv8a5IK"
      },
      "execution_count": 18,
      "outputs": []
    },
    {
      "cell_type": "code",
      "source": [
        "# Step 7: Train the model\n",
        "model.fit(train_data, train_labels, epochs=50, batch_size=32, validation_data=(val_data, val_labels))\n"
      ],
      "metadata": {
        "colab": {
          "base_uri": "https://localhost:8080/"
        },
        "id": "SjQ0LCq6fpWW",
        "outputId": "215d061f-3088-47a6-a5d1-ae223e1706a0"
      },
      "execution_count": 19,
      "outputs": [
        {
          "output_type": "stream",
          "name": "stdout",
          "text": [
            "Epoch 1/50\n",
            "26/26 [==============================] - 65s 471ms/step - loss: 1.1550 - accuracy: 0.5705 - val_loss: 384.4675 - val_accuracy: 0.3670\n",
            "Epoch 2/50\n",
            "26/26 [==============================] - 9s 355ms/step - loss: 0.7070 - accuracy: 0.7154 - val_loss: 200.7777 - val_accuracy: 0.2060\n",
            "Epoch 3/50\n",
            "26/26 [==============================] - 10s 373ms/step - loss: 0.5806 - accuracy: 0.7715 - val_loss: 739.1254 - val_accuracy: 0.1086\n",
            "Epoch 4/50\n",
            "26/26 [==============================] - 9s 366ms/step - loss: 0.4538 - accuracy: 0.8015 - val_loss: 9.4172 - val_accuracy: 0.5805\n",
            "Epoch 5/50\n",
            "26/26 [==============================] - 9s 363ms/step - loss: 0.2679 - accuracy: 0.9014 - val_loss: 4.4621 - val_accuracy: 0.4270\n",
            "Epoch 6/50\n",
            "26/26 [==============================] - 9s 344ms/step - loss: 0.4660 - accuracy: 0.8127 - val_loss: 5.9167 - val_accuracy: 0.3109\n",
            "Epoch 7/50\n",
            "26/26 [==============================] - 9s 361ms/step - loss: 0.3256 - accuracy: 0.8739 - val_loss: 5.5447 - val_accuracy: 0.4345\n",
            "Epoch 8/50\n",
            "26/26 [==============================] - 9s 342ms/step - loss: 0.2941 - accuracy: 0.8964 - val_loss: 15.9363 - val_accuracy: 0.1124\n",
            "Epoch 9/50\n",
            "26/26 [==============================] - 9s 346ms/step - loss: 0.1750 - accuracy: 0.9326 - val_loss: 8.9229 - val_accuracy: 0.2210\n",
            "Epoch 10/50\n",
            "26/26 [==============================] - 9s 348ms/step - loss: 0.2861 - accuracy: 0.8901 - val_loss: 2.5564 - val_accuracy: 0.5730\n",
            "Epoch 11/50\n",
            "26/26 [==============================] - 9s 365ms/step - loss: 0.5321 - accuracy: 0.7803 - val_loss: 15.3387 - val_accuracy: 0.1835\n",
            "Epoch 12/50\n",
            "26/26 [==============================] - 10s 367ms/step - loss: 0.2223 - accuracy: 0.9114 - val_loss: 26.8035 - val_accuracy: 0.1199\n",
            "Epoch 13/50\n",
            "26/26 [==============================] - 9s 366ms/step - loss: 0.2200 - accuracy: 0.9276 - val_loss: 13.1993 - val_accuracy: 0.0037\n",
            "Epoch 14/50\n",
            "26/26 [==============================] - 9s 346ms/step - loss: 0.3102 - accuracy: 0.8764 - val_loss: 11.4880 - val_accuracy: 0.5206\n",
            "Epoch 15/50\n",
            "26/26 [==============================] - 9s 363ms/step - loss: 0.3335 - accuracy: 0.8914 - val_loss: 8.2031 - val_accuracy: 0.1461\n",
            "Epoch 16/50\n",
            "26/26 [==============================] - 9s 344ms/step - loss: 0.1938 - accuracy: 0.9401 - val_loss: 3.4647 - val_accuracy: 0.3895\n",
            "Epoch 17/50\n",
            "26/26 [==============================] - 9s 345ms/step - loss: 0.1315 - accuracy: 0.9501 - val_loss: 3.9585 - val_accuracy: 0.4757\n",
            "Epoch 18/50\n",
            "26/26 [==============================] - 9s 363ms/step - loss: 0.1790 - accuracy: 0.9476 - val_loss: 3.4887 - val_accuracy: 0.5206\n",
            "Epoch 19/50\n",
            "26/26 [==============================] - 9s 346ms/step - loss: 0.1677 - accuracy: 0.9388 - val_loss: 24.6800 - val_accuracy: 0.2322\n",
            "Epoch 20/50\n",
            "26/26 [==============================] - 9s 347ms/step - loss: 0.1281 - accuracy: 0.9476 - val_loss: 14.2652 - val_accuracy: 0.2996\n",
            "Epoch 21/50\n",
            "26/26 [==============================] - 9s 363ms/step - loss: 0.1846 - accuracy: 0.9426 - val_loss: 7.6973 - val_accuracy: 0.5805\n",
            "Epoch 22/50\n",
            "26/26 [==============================] - 9s 364ms/step - loss: 0.1070 - accuracy: 0.9576 - val_loss: 5.7160 - val_accuracy: 0.5019\n",
            "Epoch 23/50\n",
            "26/26 [==============================] - 9s 367ms/step - loss: 0.2208 - accuracy: 0.9238 - val_loss: 67.8405 - val_accuracy: 0.1161\n",
            "Epoch 24/50\n",
            "26/26 [==============================] - 9s 364ms/step - loss: 0.1133 - accuracy: 0.9625 - val_loss: 3.5560 - val_accuracy: 0.5468\n",
            "Epoch 25/50\n",
            "26/26 [==============================] - 9s 365ms/step - loss: 0.1635 - accuracy: 0.9451 - val_loss: 4.8273 - val_accuracy: 0.4981\n",
            "Epoch 26/50\n",
            "26/26 [==============================] - 9s 349ms/step - loss: 0.0892 - accuracy: 0.9725 - val_loss: 5.9221 - val_accuracy: 0.5281\n",
            "Epoch 27/50\n",
            "26/26 [==============================] - 9s 345ms/step - loss: 0.2519 - accuracy: 0.9039 - val_loss: 11.3498 - val_accuracy: 0.1873\n",
            "Epoch 28/50\n",
            "26/26 [==============================] - 9s 347ms/step - loss: 0.2823 - accuracy: 0.8926 - val_loss: 10.6481 - val_accuracy: 0.2809\n",
            "Epoch 29/50\n",
            "26/26 [==============================] - 9s 366ms/step - loss: 0.2763 - accuracy: 0.9014 - val_loss: 43.9240 - val_accuracy: 0.1648\n",
            "Epoch 30/50\n",
            "26/26 [==============================] - 9s 362ms/step - loss: 0.1036 - accuracy: 0.9613 - val_loss: 3.3181 - val_accuracy: 0.6292\n",
            "Epoch 31/50\n",
            "26/26 [==============================] - 9s 346ms/step - loss: 0.1516 - accuracy: 0.9426 - val_loss: 8.8849 - val_accuracy: 0.4869\n",
            "Epoch 32/50\n",
            "26/26 [==============================] - 9s 366ms/step - loss: 0.2071 - accuracy: 0.9338 - val_loss: 9.1936 - val_accuracy: 0.3633\n",
            "Epoch 33/50\n",
            "26/26 [==============================] - 9s 364ms/step - loss: 0.4185 - accuracy: 0.8664 - val_loss: 6.0425 - val_accuracy: 0.5655\n",
            "Epoch 34/50\n",
            "26/26 [==============================] - 9s 363ms/step - loss: 0.6691 - accuracy: 0.7403 - val_loss: 99.9616 - val_accuracy: 0.2360\n",
            "Epoch 35/50\n",
            "26/26 [==============================] - 9s 347ms/step - loss: 0.4431 - accuracy: 0.8290 - val_loss: 31.2428 - val_accuracy: 0.2210\n",
            "Epoch 36/50\n",
            "26/26 [==============================] - 9s 348ms/step - loss: 0.2038 - accuracy: 0.9276 - val_loss: 6.8137 - val_accuracy: 0.2772\n",
            "Epoch 37/50\n",
            "26/26 [==============================] - 9s 345ms/step - loss: 0.2334 - accuracy: 0.9164 - val_loss: 10.3972 - val_accuracy: 0.2247\n",
            "Epoch 38/50\n",
            "26/26 [==============================] - 9s 364ms/step - loss: 0.2417 - accuracy: 0.9064 - val_loss: 5.4011 - val_accuracy: 0.3184\n",
            "Epoch 39/50\n",
            "26/26 [==============================] - 9s 365ms/step - loss: 0.2600 - accuracy: 0.9051 - val_loss: 8.4122 - val_accuracy: 0.5431\n",
            "Epoch 40/50\n",
            "26/26 [==============================] - 9s 363ms/step - loss: 0.3296 - accuracy: 0.8689 - val_loss: 5.2933 - val_accuracy: 0.4082\n",
            "Epoch 41/50\n",
            "26/26 [==============================] - 9s 364ms/step - loss: 0.3602 - accuracy: 0.8801 - val_loss: 20.8479 - val_accuracy: 0.3109\n",
            "Epoch 42/50\n",
            "26/26 [==============================] - 9s 364ms/step - loss: 0.1769 - accuracy: 0.9388 - val_loss: 2.5742 - val_accuracy: 0.5655\n",
            "Epoch 43/50\n",
            "26/26 [==============================] - 9s 363ms/step - loss: 0.0932 - accuracy: 0.9725 - val_loss: 2.1121 - val_accuracy: 0.5843\n",
            "Epoch 44/50\n",
            "26/26 [==============================] - 9s 344ms/step - loss: 0.1111 - accuracy: 0.9613 - val_loss: 3.9449 - val_accuracy: 0.6442\n",
            "Epoch 45/50\n",
            "26/26 [==============================] - 9s 347ms/step - loss: 0.1028 - accuracy: 0.9675 - val_loss: 2.4552 - val_accuracy: 0.5019\n",
            "Epoch 46/50\n",
            "26/26 [==============================] - 9s 364ms/step - loss: 0.1877 - accuracy: 0.9313 - val_loss: 8.1596 - val_accuracy: 0.1835\n",
            "Epoch 47/50\n",
            "26/26 [==============================] - 9s 345ms/step - loss: 0.1772 - accuracy: 0.9376 - val_loss: 3.1124 - val_accuracy: 0.3558\n",
            "Epoch 48/50\n",
            "26/26 [==============================] - 9s 348ms/step - loss: 0.1356 - accuracy: 0.9588 - val_loss: 3.0609 - val_accuracy: 0.4607\n",
            "Epoch 49/50\n",
            "26/26 [==============================] - 9s 365ms/step - loss: 0.1188 - accuracy: 0.9625 - val_loss: 4.2089 - val_accuracy: 0.4757\n",
            "Epoch 50/50\n",
            "26/26 [==============================] - 9s 345ms/step - loss: 0.1209 - accuracy: 0.9576 - val_loss: 3.8578 - val_accuracy: 0.4607\n"
          ]
        },
        {
          "output_type": "execute_result",
          "data": {
            "text/plain": [
              "<keras.callbacks.History at 0x7f0020c19d00>"
            ]
          },
          "metadata": {},
          "execution_count": 19
        }
      ]
    },
    {
      "cell_type": "code",
      "source": [
        "# Step 8: Evaluate the model\n",
        "test_loss, test_acc = model.evaluate(test_data, test_labels)\n",
        "print(f\"Test accuracy: {test_acc}\")"
      ],
      "metadata": {
        "colab": {
          "base_uri": "https://localhost:8080/"
        },
        "id": "X4X52Pa6e9Ru",
        "outputId": "1d283a25-02df-408a-b813-29e19e948b08"
      },
      "execution_count": 20,
      "outputs": [
        {
          "output_type": "stream",
          "name": "stdout",
          "text": [
            "9/9 [==============================] - 1s 162ms/step - loss: 3.4200 - accuracy: 0.4850\n",
            "Test accuracy: 0.4849624037742615\n"
          ]
        }
      ]
    },
    {
      "cell_type": "code",
      "source": [
        "# Step 9: Make predictions\n",
        "predictions = model.predict(test_data)"
      ],
      "metadata": {
        "colab": {
          "base_uri": "https://localhost:8080/"
        },
        "id": "g1XOETSnfBJS",
        "outputId": "bd7826b6-7b91-49f9-83f4-d516ec2690fa"
      },
      "execution_count": 21,
      "outputs": [
        {
          "output_type": "stream",
          "name": "stdout",
          "text": [
            "9/9 [==============================] - 2s 97ms/step\n"
          ]
        }
      ]
    },
    {
      "cell_type": "code",
      "source": [
        "# Step 10: Calculate confusion matrix\n",
        "# create the confusion matrix\n",
        "import matplotlib.pyplot as plt\n",
        "import seaborn as sns\n",
        "from sklearn.metrics import confusion_matrix\n",
        "conf_matrix = confusion_matrix(test_labels, np.argmax(predictions, axis=1))\n",
        "\n",
        "# plot the heatmap\n",
        "sns.heatmap(conf_matrix, annot=True, cmap=\"YlGnBu\")\n",
        "plt.title(\"Confusion Matrix\")\n",
        "plt.xlabel(\"Predicted Labels\")\n",
        "plt.ylabel(\"True Labels\")\n",
        "plt.show()"
      ],
      "metadata": {
        "colab": {
          "base_uri": "https://localhost:8080/",
          "height": 472
        },
        "id": "H6eMhPfxfFSb",
        "outputId": "47d7d0ff-44a1-4d42-f3b4-3c4534dfcb05"
      },
      "execution_count": 24,
      "outputs": [
        {
          "output_type": "display_data",
          "data": {
            "text/plain": [
              "<Figure size 640x480 with 2 Axes>"
            ],
            "image/png": "[encoded data removed]"
          },
          "metadata": {}
        }
      ]
    }
  ]
}