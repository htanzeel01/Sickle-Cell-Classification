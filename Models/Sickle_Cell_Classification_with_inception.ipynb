{
  "nbformat": 4,
  "nbformat_minor": 0,
  "metadata": {
    "colab": {
      "provenance": []
    },
    "kernelspec": {
      "name": "python3",
      "display_name": "Python 3"
    },
    "language_info": {
      "name": "python"
    },
    "accelerator": "GPU",
    "gpuClass": "standard"
  },
  "cells": [
    {
      "cell_type": "code",
      "execution_count": null,
      "metadata": {
        "colab": {
          "base_uri": "https://localhost:8080/"
        },
        "id": "9KCGdWdVs4y-",
        "outputId": "deace6d1-020e-48f3-d5f7-942b0235db9b"
      },
      "outputs": [
        {
          "output_type": "stream",
          "name": "stdout",
          "text": [
            "Mounted at /content/drive\n"
          ]
        }
      ],
      "source": [
        "from google.colab import drive\n",
        "drive.mount('/content/drive')"
      ]
    },
    {
      "cell_type": "code",
      "source": [
        "# Step 1: Import the necessary libraries\n",
        "import numpy as np\n",
        "import os\n",
        "from PIL import Image\n",
        "from sklearn.metrics import confusion_matrix\n",
        "from tensorflow import keras\n",
        "from tensorflow.keras import layers\n",
        "from tensorflow.keras.applications import InceptionV3\n",
        "from tensorflow.keras.applications.inception_v3 import preprocess_input\n",
        "from tensorflow.keras.preprocessing import image\n",
        "import matplotlib.pyplot as plt\n",
        "import seaborn as sns"
      ],
      "metadata": {
        "id": "GnyotcQ2tEqG"
      },
      "execution_count": null,
      "outputs": []
    },
    {
      "cell_type": "code",
      "source": [
        "# Step 2: Load the data\n",
        "train_data = []\n",
        "train_labels = []\n",
        "test_data = []\n",
        "test_labels = []\n",
        "val_data = []\n",
        "val_labels = []\n",
        "\n",
        "# Load data from train folder\n",
        "for i in range(5):\n",
        "    folder_name = f\"/content/drive/MyDrive/rawdata/Train/Phase{i+1}\"\n",
        "    for filename in os.listdir(folder_name):\n",
        "        img = Image.open(os.path.join(folder_name, filename))\n",
        "        img = img.resize((299, 299))\n",
        "        img_array = np.array(img)\n",
        "        train_data.append(img_array)\n",
        "        train_labels.append(i)\n",
        "\n",
        "# Load data from test folder\n",
        "for i in range(5):\n",
        "    folder_name = f\"/content/drive/MyDrive/rawdata/Test/Phase{i+1}\"\n",
        "    for filename in os.listdir(folder_name):\n",
        "        img = Image.open(os.path.join(folder_name, filename))\n",
        "        img = img.resize((299, 299))\n",
        "        img_array = np.array(img)\n",
        "        test_data.append(img_array)\n",
        "        test_labels.append(i)\n",
        "\n",
        "# Load data from validation folder\n",
        "for i in range(5):\n",
        "    folder_name = f\"/content/drive/MyDrive/rawdata/Validation/Phase{i+1}\"\n",
        "    for filename in os.listdir(folder_name):\n",
        "        img = Image.open(os.path.join(folder_name, filename))\n",
        "        img = img.resize((299, 299))\n",
        "        img_array = np.array(img)\n",
        "        val_data.append(img_array)\n",
        "        val_labels.append(i)"
      ],
      "metadata": {
        "id": "Q7xxa-LhtLIG"
      },
      "execution_count": null,
      "outputs": []
    },
    {
      "cell_type": "code",
      "source": [
        "# Step 3: Preprocess the data\n",
        "train_data = np.array(train_data)\n",
        "train_labels = np.array(train_labels)\n",
        "train_data = keras.applications.inception_v3.preprocess_input(train_data)\n",
        "\n",
        "test_data = np.array(test_data)\n",
        "test_labels = np.array(test_labels)\n",
        "test_data = keras.applications.inception_v3.preprocess_input(test_data)\n",
        "\n",
        "val_data = np.array(val_data)\n",
        "val_labels = np.array(val_labels)\n",
        "val_data = keras.applications.inception_v3.preprocess_input(val_data)\n"
      ],
      "metadata": {
        "id": "7eO7klWj66M9"
      },
      "execution_count": null,
      "outputs": []
    },
    {
      "cell_type": "code",
      "source": [
        "# Step 4: Load the pre-trained model\n",
        "base_model = InceptionV3(weights='imagenet', include_top=False, input_shape=(299, 299, 3))"
      ],
      "metadata": {
        "colab": {
          "base_uri": "https://localhost:8080/"
        },
        "id": "o_BRw1EI9IAb",
        "outputId": "af331e52-4ecf-4580-a447-d201ac577b70"
      },
      "execution_count": null,
      "outputs": [
        {
          "output_type": "stream",
          "name": "stdout",
          "text": [
            "Downloading data from https://storage.googleapis.com/tensorflow/keras-applications/inception_v3/inception_v3_weights_tf_dim_ordering_tf_kernels_notop.h5\n",
            "87910968/87910968 [==============================] - 3s 0us/step\n"
          ]
        }
      ]
    },
    {
      "cell_type": "code",
      "source": [
        "# Step 5: Build the model\n",
        "model = keras.Sequential(\n",
        "    [\n",
        "        base_model,\n",
        "        layers.GlobalAveragePooling2D(),\n",
        "        layers.Dense(128, activation=\"relu\"),\n",
        "        layers.Dense(5, activation=\"softmax\"),\n",
        "    ]\n",
        ")"
      ],
      "metadata": {
        "id": "1GP_ue779N6I"
      },
      "execution_count": null,
      "outputs": []
    },
    {
      "cell_type": "code",
      "source": [
        "# Step 6: Compile the model\n",
        "model.compile(\n",
        "    optimizer=\"adam\", loss=\"sparse_categorical_crossentropy\", metrics=[\"accuracy\"]\n",
        ")"
      ],
      "metadata": {
        "id": "SPSIL9ga9q3o"
      },
      "execution_count": null,
      "outputs": []
    },
    {
      "cell_type": "code",
      "source": [
        "# Step 7: Train the model\n",
        "model.fit(train_data, train_labels, epochs=50, batch_size=32, validation_data=(val_data, val_labels))"
      ],
      "metadata": {
        "colab": {
          "base_uri": "https://localhost:8080/"
        },
        "id": "LHbnbkfn9uD4",
        "outputId": "9fd2b76f-33e6-4542-a3f9-96e7a5dfab59"
      },
      "execution_count": null,
      "outputs": [
        {
          "output_type": "stream",
          "name": "stdout",
          "text": [
            "Epoch 1/50\n",
            "26/26 [==============================] - 51s 542ms/step - loss: 0.5980 - accuracy: 0.8190 - val_loss: 3.9256 - val_accuracy: 0.2996\n",
            "Epoch 2/50\n",
            "26/26 [==============================] - 11s 431ms/step - loss: 0.2811 - accuracy: 0.8901 - val_loss: 2.0356 - val_accuracy: 0.4944\n",
            "Epoch 3/50\n",
            "26/26 [==============================] - 11s 436ms/step - loss: 0.2526 - accuracy: 0.9076 - val_loss: 2.7113 - val_accuracy: 0.4532\n",
            "Epoch 4/50\n",
            "26/26 [==============================] - 12s 450ms/step - loss: 0.2149 - accuracy: 0.9164 - val_loss: 4.5073 - val_accuracy: 0.2322\n",
            "Epoch 5/50\n",
            "26/26 [==============================] - 11s 442ms/step - loss: 0.1822 - accuracy: 0.9338 - val_loss: 7.3850 - val_accuracy: 0.1648\n",
            "Epoch 6/50\n",
            "26/26 [==============================] - 12s 453ms/step - loss: 0.2361 - accuracy: 0.9201 - val_loss: 2.2164 - val_accuracy: 0.5431\n",
            "Epoch 7/50\n",
            "26/26 [==============================] - 12s 455ms/step - loss: 0.1556 - accuracy: 0.9451 - val_loss: 2.2153 - val_accuracy: 0.4831\n",
            "Epoch 8/50\n",
            "26/26 [==============================] - 11s 442ms/step - loss: 0.1077 - accuracy: 0.9663 - val_loss: 2.8751 - val_accuracy: 0.5506\n",
            "Epoch 9/50\n",
            "26/26 [==============================] - 12s 446ms/step - loss: 0.1011 - accuracy: 0.9663 - val_loss: 2.2015 - val_accuracy: 0.5768\n",
            "Epoch 10/50\n",
            "26/26 [==============================] - 12s 460ms/step - loss: 0.2579 - accuracy: 0.9126 - val_loss: 14.7213 - val_accuracy: 0.2884\n",
            "Epoch 11/50\n",
            "26/26 [==============================] - 12s 461ms/step - loss: 0.1449 - accuracy: 0.9526 - val_loss: 2.8897 - val_accuracy: 0.6180\n",
            "Epoch 12/50\n",
            "26/26 [==============================] - 12s 458ms/step - loss: 0.0987 - accuracy: 0.9613 - val_loss: 2.6047 - val_accuracy: 0.6142\n",
            "Epoch 13/50\n",
            "26/26 [==============================] - 12s 451ms/step - loss: 0.1071 - accuracy: 0.9588 - val_loss: 2.0224 - val_accuracy: 0.6180\n",
            "Epoch 14/50\n",
            "26/26 [==============================] - 12s 461ms/step - loss: 0.1305 - accuracy: 0.9613 - val_loss: 1.6393 - val_accuracy: 0.6292\n",
            "Epoch 15/50\n",
            "26/26 [==============================] - 12s 451ms/step - loss: 0.0776 - accuracy: 0.9775 - val_loss: 2.9817 - val_accuracy: 0.4569\n",
            "Epoch 16/50\n",
            "26/26 [==============================] - 12s 453ms/step - loss: 0.0538 - accuracy: 0.9900 - val_loss: 1.9375 - val_accuracy: 0.5019\n",
            "Epoch 17/50\n",
            "26/26 [==============================] - 12s 462ms/step - loss: 0.2260 - accuracy: 0.9351 - val_loss: 5.0234 - val_accuracy: 0.2772\n",
            "Epoch 18/50\n",
            "26/26 [==============================] - 12s 465ms/step - loss: 0.3255 - accuracy: 0.8727 - val_loss: 6.6788 - val_accuracy: 0.3933\n",
            "Epoch 19/50\n",
            "26/26 [==============================] - 12s 460ms/step - loss: 0.4736 - accuracy: 0.8065 - val_loss: 3.1106 - val_accuracy: 0.5206\n",
            "Epoch 20/50\n",
            "26/26 [==============================] - 12s 464ms/step - loss: 0.2641 - accuracy: 0.8951 - val_loss: 2.3272 - val_accuracy: 0.5918\n",
            "Epoch 21/50\n",
            "26/26 [==============================] - 12s 455ms/step - loss: 0.1561 - accuracy: 0.9526 - val_loss: 2.0024 - val_accuracy: 0.6142\n",
            "Epoch 22/50\n",
            "26/26 [==============================] - 12s 456ms/step - loss: 0.1401 - accuracy: 0.9513 - val_loss: 3.3777 - val_accuracy: 0.4569\n",
            "Epoch 23/50\n",
            "26/26 [==============================] - 12s 466ms/step - loss: 0.1312 - accuracy: 0.9438 - val_loss: 4.1202 - val_accuracy: 0.5393\n",
            "Epoch 24/50\n",
            "26/26 [==============================] - 12s 470ms/step - loss: 0.0559 - accuracy: 0.9813 - val_loss: 2.6107 - val_accuracy: 0.5768\n",
            "Epoch 25/50\n",
            "26/26 [==============================] - 12s 459ms/step - loss: 0.0411 - accuracy: 0.9863 - val_loss: 3.1619 - val_accuracy: 0.4944\n",
            "Epoch 26/50\n",
            "26/26 [==============================] - 12s 466ms/step - loss: 0.0982 - accuracy: 0.9625 - val_loss: 1.8384 - val_accuracy: 0.6105\n",
            "Epoch 27/50\n",
            "26/26 [==============================] - 12s 467ms/step - loss: 0.0574 - accuracy: 0.9838 - val_loss: 2.6242 - val_accuracy: 0.5768\n",
            "Epoch 28/50\n",
            "26/26 [==============================] - 12s 468ms/step - loss: 0.0727 - accuracy: 0.9763 - val_loss: 2.0589 - val_accuracy: 0.5918\n",
            "Epoch 29/50\n",
            "26/26 [==============================] - 12s 476ms/step - loss: 0.0480 - accuracy: 0.9850 - val_loss: 3.1944 - val_accuracy: 0.4757\n",
            "Epoch 30/50\n",
            "26/26 [==============================] - 12s 468ms/step - loss: 0.0661 - accuracy: 0.9763 - val_loss: 2.8316 - val_accuracy: 0.4569\n",
            "Epoch 31/50\n",
            "26/26 [==============================] - 12s 460ms/step - loss: 0.0390 - accuracy: 0.9900 - val_loss: 4.8425 - val_accuracy: 0.4607\n",
            "Epoch 32/50\n",
            "26/26 [==============================] - 12s 457ms/step - loss: 0.2445 - accuracy: 0.9101 - val_loss: 5.6667 - val_accuracy: 0.5431\n",
            "Epoch 33/50\n",
            "26/26 [==============================] - 12s 469ms/step - loss: 0.1989 - accuracy: 0.9201 - val_loss: 8.7651 - val_accuracy: 0.6404\n",
            "Epoch 34/50\n",
            "26/26 [==============================] - 12s 465ms/step - loss: 0.0920 - accuracy: 0.9675 - val_loss: 7.4090 - val_accuracy: 0.4757\n",
            "Epoch 35/50\n",
            "26/26 [==============================] - 12s 461ms/step - loss: 0.0533 - accuracy: 0.9838 - val_loss: 4.3459 - val_accuracy: 0.5918\n",
            "Epoch 36/50\n",
            "26/26 [==============================] - 12s 469ms/step - loss: 0.0301 - accuracy: 0.9925 - val_loss: 2.0102 - val_accuracy: 0.6330\n",
            "Epoch 37/50\n",
            "26/26 [==============================] - 12s 468ms/step - loss: 0.0259 - accuracy: 0.9925 - val_loss: 1.8273 - val_accuracy: 0.5805\n",
            "Epoch 38/50\n",
            "26/26 [==============================] - 12s 461ms/step - loss: 0.0278 - accuracy: 0.9913 - val_loss: 1.5260 - val_accuracy: 0.6479\n",
            "Epoch 39/50\n",
            "26/26 [==============================] - 12s 467ms/step - loss: 0.0284 - accuracy: 0.9925 - val_loss: 4.6122 - val_accuracy: 0.3146\n",
            "Epoch 40/50\n",
            "26/26 [==============================] - 12s 475ms/step - loss: 0.0305 - accuracy: 0.9888 - val_loss: 2.2027 - val_accuracy: 0.6854\n",
            "Epoch 41/50\n",
            "26/26 [==============================] - 12s 468ms/step - loss: 0.0568 - accuracy: 0.9813 - val_loss: 4.0099 - val_accuracy: 0.4494\n",
            "Epoch 42/50\n",
            "26/26 [==============================] - 12s 470ms/step - loss: 0.0310 - accuracy: 0.9913 - val_loss: 2.2502 - val_accuracy: 0.5768\n",
            "Epoch 43/50\n",
            "26/26 [==============================] - 12s 472ms/step - loss: 0.0364 - accuracy: 0.9913 - val_loss: 2.9930 - val_accuracy: 0.4607\n",
            "Epoch 44/50\n",
            "26/26 [==============================] - 12s 467ms/step - loss: 0.0342 - accuracy: 0.9913 - val_loss: 2.6774 - val_accuracy: 0.6255\n",
            "Epoch 45/50\n",
            "26/26 [==============================] - 12s 463ms/step - loss: 0.0158 - accuracy: 0.9963 - val_loss: 3.0073 - val_accuracy: 0.6554\n",
            "Epoch 46/50\n",
            "26/26 [==============================] - 12s 462ms/step - loss: 0.1446 - accuracy: 0.9538 - val_loss: 5.0950 - val_accuracy: 0.3371\n",
            "Epoch 47/50\n",
            "26/26 [==============================] - 12s 467ms/step - loss: 0.0875 - accuracy: 0.9688 - val_loss: 3.3903 - val_accuracy: 0.4757\n",
            "Epoch 48/50\n",
            "26/26 [==============================] - 12s 460ms/step - loss: 0.0424 - accuracy: 0.9863 - val_loss: 5.6561 - val_accuracy: 0.4270\n",
            "Epoch 49/50\n",
            "26/26 [==============================] - 12s 461ms/step - loss: 0.0432 - accuracy: 0.9888 - val_loss: 4.1437 - val_accuracy: 0.4869\n",
            "Epoch 50/50\n",
            "26/26 [==============================] - 12s 467ms/step - loss: 0.0280 - accuracy: 0.9938 - val_loss: 3.0653 - val_accuracy: 0.6442\n"
          ]
        },
        {
          "output_type": "execute_result",
          "data": {
            "text/plain": [
              "<keras.callbacks.History at 0x7fb7b10453d0>"
            ]
          },
          "metadata": {},
          "execution_count": 37
        }
      ]
    },
    {
      "cell_type": "code",
      "source": [
        "# Step 8: Evaluate the model\n",
        "test_loss, test_acc = model.evaluate(test_data, test_labels)\n",
        "print(f\"Test accuracy: {test_acc}\")\n"
      ],
      "metadata": {
        "colab": {
          "base_uri": "https://localhost:8080/"
        },
        "id": "foWknlMnDzn_",
        "outputId": "88fc1d57-0665-49f5-a2f7-8ccd66ba8ebe"
      },
      "execution_count": null,
      "outputs": [
        {
          "output_type": "stream",
          "name": "stdout",
          "text": [
            "9/9 [==============================] - 1s 112ms/step - loss: 2.5652 - accuracy: 0.6654\n",
            "Test accuracy: 0.6654135584831238\n"
          ]
        }
      ]
    },
    {
      "cell_type": "code",
      "source": [
        "# Step 9: Make predictions\n",
        "predictions = model.predict(test_data)"
      ],
      "metadata": {
        "colab": {
          "base_uri": "https://localhost:8080/"
        },
        "id": "8_J0Qt88D6ru",
        "outputId": "81755e3a-c028-486b-b9fb-d8ffb3f586e2"
      },
      "execution_count": null,
      "outputs": [
        {
          "output_type": "stream",
          "name": "stdout",
          "text": [
            "9/9 [==============================] - 4s 129ms/step\n"
          ]
        }
      ]
    },
    {
      "cell_type": "code",
      "source": [
        "# Step 10: Calculate confusion matrix\n",
        "# create the confusion matrix\n",
        "conf_matrix = confusion_matrix(test_labels, np.argmax(predictions, axis=1))\n",
        "\n",
        "# plot the heatmap\n",
        "sns.heatmap(conf_matrix, annot=True, cmap=\"YlGnBu\")\n",
        "plt.title(\"Confusion Matrix\")\n",
        "plt.xlabel(\"Predicted Labels\")\n",
        "plt.ylabel(\"True Labels\")\n",
        "plt.show()"
      ],
      "metadata": {
        "colab": {
          "base_uri": "https://localhost:8080/",
          "height": 472
        },
        "id": "6BoVgpr9D-Lr",
        "outputId": "040e6c20-23cd-4b03-e6dd-10c5384a3a0c"
      },
      "execution_count": null,
      "outputs": [
        {
          "output_type": "display_data",
          "data": {
            "text/plain": [
              "<Figure size 640x480 with 2 Axes>"
            ],
            "image/png": "[encoded data removed]"
          },
          "metadata": {}
        }
      ]
    }
  ]
}