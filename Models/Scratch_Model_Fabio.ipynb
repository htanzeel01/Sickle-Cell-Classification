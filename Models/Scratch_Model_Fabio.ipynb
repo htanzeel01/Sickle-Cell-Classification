{
 "cells": [
  {
   "cell_type": "code",
   "execution_count": 247,
   "outputs": [],
   "source": [
    "from tensorflow.keras.layers import Input, Lambda, Dense, Flatten,Dropout\n",
    "from tensorflow.keras.models import Model\n",
    "from tensorflow.keras.applications.vgg19 import VGG19\n",
    "from tensorflow.keras.applications.vgg19 import preprocess_input\n",
    "from tensorflow.keras.preprocessing import image\n",
    "from tensorflow.keras.preprocessing.image import ImageDataGenerator\n",
    "from tensorflow.keras.models import Sequential\n",
    "from tensorflow.keras.callbacks import EarlyStopping\n",
    "from sklearn.model_selection import train_test_split\n",
    "import numpy as np\n",
    "import pandas as pd\n",
    "import os\n",
    "import cv2\n",
    "import matplotlib.pyplot as plt\n"
   ],
   "metadata": {
    "collapsed": false
   }
  },
  {
   "cell_type": "code",
   "execution_count": 248,
   "metadata": {
    "collapsed": true
   },
   "outputs": [
    {
     "name": "stdout",
     "output_type": "stream",
     "text": [
      "Found 937 images belonging to 5 classes.\n",
      "Found 303 images belonging to 5 classes.\n"
     ]
    }
   ],
   "source": [
    "#Setting up data generators\n",
    "#Create a CLAHE object with desired parameters\n",
    "\n",
    "train_dir = 'Dataset/Train/'\n",
    "test_dir = 'Dataset/Test'\n",
    "val_dir = 'Dataset/Validation'\n",
    "\n",
    "\n",
    "def apply_clahe(img):\n",
    "    # Convert to grayscale and convert data type to 8-bit unsigned integer\n",
    "    gray = cv2.cvtColor(img, cv2.COLOR_BGR2GRAY).astype(np.uint8)\n",
    "\n",
    "    # Apply CLAHE to the image\n",
    "    clahe = cv2.createCLAHE(clipLimit=2.0, tileGridSize=(8,8))\n",
    "    img_clahe = clahe.apply(gray)\n",
    "\n",
    "    # Convert back to RGB\n",
    "    img_rgb = cv2.cvtColor(img_clahe, cv2.COLOR_GRAY2RGB)\n",
    "\n",
    "    return img_rgb\n",
    "\n",
    "\n",
    "train_datagen = ImageDataGenerator(\n",
    "    rescale=1./255.,\n",
    "    rotation_range=20,\n",
    "    width_shift_range=0.2,\n",
    "    height_shift_range=0.2,\n",
    "    shear_range=0.2,\n",
    "    zoom_range=0.2,\n",
    "    horizontal_flip=True,\n",
    "    preprocessing_function=apply_clahe\n",
    ")\n",
    "\n",
    "val_datagen = ImageDataGenerator(rescale=1./255.)\n",
    "\n",
    "train_generator = train_datagen.flow_from_directory(\n",
    "    train_dir,\n",
    "    target_size=(224, 224),\n",
    "    batch_size=32,\n",
    "    class_mode='categorical')\n",
    "\n",
    "val_generator = val_datagen.flow_from_directory(\n",
    "    val_dir,\n",
    "    target_size=(224, 224),\n",
    "    batch_size=32,\n",
    "    class_mode='categorical')"
   ]
  },
  {
   "cell_type": "code",
   "execution_count": 249,
   "outputs": [],
   "source": [
    "#Setting up the model\n",
    "\n",
    "from keras.models import Sequential\n",
    "from keras.layers import Conv2D, MaxPooling2D, Flatten, Dense, Dropout\n",
    "from keras.layers import Dense, Dropout, Activation, Flatten\n",
    "\n",
    "\n",
    "model = Sequential()\n",
    "\n",
    "model.add(Conv2D(32, (3, 3), padding='same', input_shape=(224,224,3)))\n",
    "model.add(Activation('relu'))\n",
    "model.add(MaxPooling2D(pool_size=(2, 2)))\n",
    "\n",
    "model.add(Conv2D(64, (3, 3), padding='same'))\n",
    "model.add(Activation('relu'))\n",
    "model.add(MaxPooling2D(pool_size=(2, 2)))\n",
    "\n",
    "model.add(Conv2D(128, (3, 3), padding='same'))\n",
    "model.add(Activation('relu'))\n",
    "model.add(MaxPooling2D(pool_size=(2, 2)))\n",
    "\n",
    "model.add(Flatten())\n",
    "model.add(Dense(64))\n",
    "model.add(Activation('relu'))\n",
    "model.add(Dropout(0.5))\n",
    "model.add(Dense(2))\n",
    "model.add(Activation('softmax'))\n"
   ],
   "metadata": {
    "collapsed": false
   }
  },
  {
   "cell_type": "code",
   "execution_count": 250,
   "outputs": [],
   "source": [
    "#Compliling the model\n",
    "from keras.optimizers import Adam\n",
    "optimizer = Adam(lr=0.001)\n",
    "model.compile(loss='categorical_crossentropy', optimizer=optimizer, metrics=['accuracy'])"
   ],
   "metadata": {
    "collapsed": false
   }
  },
  {
   "cell_type": "code",
   "execution_count": 251,
   "outputs": [],
   "source": [
    "#Early stopping to avoid overfitting of mode\n",
    "early_stop=EarlyStopping(monitor='val_loss',mode='min',verbose=1,patience=5)"
   ],
   "metadata": {
    "collapsed": false
   }
  },
  {
   "cell_type": "code",
   "execution_count": 252,
   "outputs": [
    {
     "name": "stdout",
     "output_type": "stream",
     "text": [
      "Found 937 images belonging to 5 classes.\n",
      "Epoch 1/20\n",
      "18/18 [==============================] - 17s 860ms/step - loss: -9.1383 - accuracy: 0.2066\n",
      "Epoch 2/20\n",
      "18/18 [==============================] - 16s 855ms/step - loss: -28.0913 - accuracy: 0.1953\n",
      "Epoch 3/20\n",
      "18/18 [==============================] - 15s 859ms/step - loss: -48.9874 - accuracy: 0.1881\n",
      "Epoch 4/20\n",
      "18/18 [==============================] - 16s 869ms/step - loss: -63.9484 - accuracy: 0.2080\n",
      "Epoch 5/20\n",
      "18/18 [==============================] - 16s 880ms/step - loss: -83.0504 - accuracy: 0.1944\n",
      "Epoch 6/20\n",
      "18/18 [==============================] - 16s 849ms/step - loss: -108.7265 - accuracy: 0.1979\n",
      "Epoch 7/20\n",
      "18/18 [==============================] - 16s 853ms/step - loss: -117.8840 - accuracy: 0.1979\n",
      "Epoch 8/20\n",
      "18/18 [==============================] - 16s 848ms/step - loss: -138.6859 - accuracy: 0.2049\n",
      "Epoch 9/20\n",
      "18/18 [==============================] - 15s 837ms/step - loss: -156.0679 - accuracy: 0.2134\n",
      "Epoch 10/20\n",
      "18/18 [==============================] - 16s 865ms/step - loss: -167.6971 - accuracy: 0.2188\n",
      "Epoch 11/20\n",
      "18/18 [==============================] - 20s 1s/step - loss: -186.6346 - accuracy: 0.2170\n",
      "Epoch 12/20\n",
      "18/18 [==============================] - 17s 903ms/step - loss: -224.2287 - accuracy: 0.2025\n",
      "Epoch 13/20\n",
      "18/18 [==============================] - 16s 862ms/step - loss: -217.3525 - accuracy: 0.1944\n",
      "Epoch 14/20\n",
      "18/18 [==============================] - 17s 951ms/step - loss: -265.8660 - accuracy: 0.2098\n",
      "Epoch 15/20\n",
      "18/18 [==============================] - 17s 897ms/step - loss: -265.6644 - accuracy: 0.1840\n",
      "Epoch 16/20\n",
      "18/18 [==============================] - 17s 922ms/step - loss: -298.1431 - accuracy: 0.2014\n",
      "Epoch 17/20\n",
      "18/18 [==============================] - 17s 903ms/step - loss: -321.3455 - accuracy: 0.1844\n",
      "Epoch 18/20\n",
      "18/18 [==============================] - 17s 915ms/step - loss: -330.0101 - accuracy: 0.1989\n",
      "Epoch 19/20\n",
      "18/18 [==============================] - 16s 884ms/step - loss: -348.3481 - accuracy: 0.2061\n",
      "Epoch 20/20\n",
      "18/18 [==============================] - 16s 892ms/step - loss: -362.0382 - accuracy: 0.1863\n"
     ]
    }
   ],
   "source": [
    "#Training model\n",
    "from keras.preprocessing.image import ImageDataGenerator\n",
    "from keras.models import Sequential\n",
    "from keras.layers import Dense, Flatten\n",
    "from keras.applications import VGG16\n",
    "\n",
    "# Data preprocessing\n",
    "datagen = ImageDataGenerator(rescale=1./255)\n",
    "\n",
    "train_generator = datagen.flow_from_directory(\n",
    "        train_dir,\n",
    "        target_size=(150, 150),\n",
    "        batch_size=32,\n",
    "        class_mode='binary')\n",
    "\n",
    "# Model architecture\n",
    "vgg = VGG16(include_top=False, input_shape=(150, 150, 3))  #check input shape\n",
    "\n",
    "model = Sequential()\n",
    "model.add(vgg)\n",
    "model.add(Flatten())\n",
    "model.add(Dense(4, activation='softmax'))  #//number according to nr of classes and I changed the activation to softmax\n",
    "\n",
    "vgg.trainable = False\n",
    "\n",
    "# Model training\n",
    "model.compile(loss='binary_crossentropy', optimizer='adam', metrics=['accuracy'])\n",
    "\n",
    "history = model.fit(\n",
    "        train_generator,\n",
    "        steps_per_epoch=300//16,\n",
    "        epochs=20)\n",
    "#add validation split as parameter"
   ],
   "metadata": {
    "collapsed": false
   }
  },
  {
   "cell_type": "code",
   "execution_count": 257,
   "outputs": [
    {
     "data": {
      "text/plain": "<Figure size 432x288 with 1 Axes>",
      "image/png": "[encoded data removed]"
     },
     "metadata": {
      "needs_background": "light"
     },
     "output_type": "display_data"
    },
    {
     "ename": "KeyError",
     "evalue": "'val_loss'",
     "output_type": "error",
     "traceback": [
      "\u001B[1;31m---------------------------------------------------------------------------\u001B[0m",
      "\u001B[1;31mKeyError\u001B[0m                                  Traceback (most recent call last)",
      "\u001B[1;32m~\\AppData\\Local\\Temp/ipykernel_12524/2120295821.py\u001B[0m in \u001B[0;36m<module>\u001B[1;34m\u001B[0m\n\u001B[0;32m     10\u001B[0m \u001B[1;31m# loss\u001B[0m\u001B[1;33m\u001B[0m\u001B[1;33m\u001B[0m\u001B[0m\n\u001B[0;32m     11\u001B[0m \u001B[0mplt\u001B[0m\u001B[1;33m.\u001B[0m\u001B[0mplot\u001B[0m\u001B[1;33m(\u001B[0m\u001B[0mhistory\u001B[0m\u001B[1;33m.\u001B[0m\u001B[0mhistory\u001B[0m\u001B[1;33m[\u001B[0m\u001B[1;34m'loss'\u001B[0m\u001B[1;33m]\u001B[0m\u001B[1;33m,\u001B[0m \u001B[0mlabel\u001B[0m\u001B[1;33m=\u001B[0m\u001B[1;34m'train loss'\u001B[0m\u001B[1;33m)\u001B[0m\u001B[1;33m\u001B[0m\u001B[1;33m\u001B[0m\u001B[0m\n\u001B[1;32m---> 12\u001B[1;33m \u001B[0mplt\u001B[0m\u001B[1;33m.\u001B[0m\u001B[0mplot\u001B[0m\u001B[1;33m(\u001B[0m\u001B[0mhistory\u001B[0m\u001B[1;33m.\u001B[0m\u001B[0mhistory\u001B[0m\u001B[1;33m[\u001B[0m\u001B[1;34m'val_loss'\u001B[0m\u001B[1;33m]\u001B[0m\u001B[1;33m,\u001B[0m \u001B[0mlabel\u001B[0m\u001B[1;33m=\u001B[0m\u001B[1;34m'val loss'\u001B[0m\u001B[1;33m)\u001B[0m\u001B[1;33m\u001B[0m\u001B[1;33m\u001B[0m\u001B[0m\n\u001B[0m\u001B[0;32m     13\u001B[0m \u001B[0mplt\u001B[0m\u001B[1;33m.\u001B[0m\u001B[0mlegend\u001B[0m\u001B[1;33m(\u001B[0m\u001B[1;33m)\u001B[0m\u001B[1;33m\u001B[0m\u001B[1;33m\u001B[0m\u001B[0m\n\u001B[0;32m     14\u001B[0m \u001B[0mplt\u001B[0m\u001B[1;33m.\u001B[0m\u001B[0msavefig\u001B[0m\u001B[1;33m(\u001B[0m\u001B[1;34m'vgg-loss-rps-1.png'\u001B[0m\u001B[1;33m)\u001B[0m\u001B[1;33m\u001B[0m\u001B[1;33m\u001B[0m\u001B[0m\n",
      "\u001B[1;31mKeyError\u001B[0m: 'val_loss'"
     ]
    },
    {
     "data": {
      "text/plain": "<Figure size 432x288 with 1 Axes>",
      "image/png": "[encoded data removed]"
     },
     "metadata": {
      "needs_background": "light"
     },
     "output_type": "display_data"
    }
   ],
   "source": [
    "plt.plot(history.history['loss'], label='train acc')\n",
    "\n",
    "plt.plot(history.history['accuracy'], label='val acc')\n",
    "\n",
    "plt.legend()\n",
    "\n",
    "plt.savefig('vgg-acc-rps-1.png')\n",
    "\n",
    "plt.show()\n",
    "# loss\n",
    "plt.plot(history.history['loss'], label='train loss')\n",
    "plt.plot(history.history['val_loss'], label='val loss')\n",
    "plt.legend()\n",
    "plt.savefig('vgg-loss-rps-1.png')\n",
    "plt.show()\n",
    "\n",
    "\n",
    "plt.savefig('vgg-loss-rps-1.png')\n"
   ],
   "metadata": {
    "collapsed": false
   }
  }
 ],
 "metadata": {
  "kernelspec": {
   "display_name": "Python 3",
   "language": "python",
   "name": "python3"
  },
  "language_info": {
   "codemirror_mode": {
    "name": "ipython",
    "version": 2
   },
   "file_extension": ".py",
   "mimetype": "text/x-python",
   "name": "python",
   "nbconvert_exporter": "python",
   "pygments_lexer": "ipython2",
   "version": "2.7.6"
  }
 },
 "nbformat": 4,
 "nbformat_minor": 0
}
